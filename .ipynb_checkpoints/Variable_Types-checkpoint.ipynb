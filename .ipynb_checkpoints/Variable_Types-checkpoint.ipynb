{
 "cells": [
  {
   "cell_type": "markdown",
   "metadata": {},
   "source": [
    "# Variable Types\n",
    "\n",
    "I think this is an important concept that has been rushed through. With all these different words and notations in python, it can be difficult to keep up with what's an integer, float, function, list, string, etc... One of the built-in functions that I think is really helpful is the \"type()\" function. \n",
    "\n",
    "- **Variable** : a fake name you assign some value you choose\n",
    "- **Function** : a set of processes that return a result. It may or may not have an input.\n",
    "> For example:\n",
    ">\n",
    "> some_function(input_a, input_b)\n",
    ">\n",
    "> another_function()"
   ]
  },
  {
   "cell_type": "markdown",
   "metadata": {},
   "source": [
    "For the use I'm intending, I'd like us to just enter 1 argument into the type() function. If we google the documentation, the type function can take in up to 3 argumments: type(name, base, dict).\n",
    "\n",
    "**some jupyter notebook tips** \n",
    "press the + button at the top to insert a new cell. You can select the type of cell using the dropdown menu. I typically just use code and markdown. Shortcut to change a cell to markdown is presing 'm' and entering the cell use 'enter'"
   ]
  },
  {
   "cell_type": "code",
   "execution_count": 5,
   "metadata": {},
   "outputs": [],
   "source": [
    "#We'll set a few variables here. Remember, variables are things you can assign any alphanumeric name BUT it must start with a letter, NO numbers\n",
    "\n",
    "a = 0\n",
    "asdf = \"Some gibberish\"\n",
    "a123 = True\n",
    "catdogmouse = 15.1\n",
    "beta_0000 = 5\n",
    "i = [0, \"beach\", \"blonde\", \"bear\", False]"
   ]
  },
  {
   "cell_type": "markdown",
   "metadata": {},
   "source": [
    "##### Below, we're going to test each function. In order to run a cell in jupyter notebook, press\n",
    "###### ctr + enter : to run and stay in the same cell\n",
    "###### shift + enter : to run and move to the next cell"
   ]
  },
  {
   "cell_type": "code",
   "execution_count": 15,
   "metadata": {},
   "outputs": [
    {
     "data": {
      "text/plain": [
       "int"
      ]
     },
     "execution_count": 15,
     "metadata": {},
     "output_type": "execute_result"
    }
   ],
   "source": [
    "type(a)"
   ]
  },
  {
   "cell_type": "code",
   "execution_count": 16,
   "metadata": {},
   "outputs": [
    {
     "data": {
      "text/plain": [
       "str"
      ]
     },
     "execution_count": 16,
     "metadata": {},
     "output_type": "execute_result"
    }
   ],
   "source": [
    "type(asdf)"
   ]
  },
  {
   "cell_type": "code",
   "execution_count": 17,
   "metadata": {},
   "outputs": [
    {
     "data": {
      "text/plain": [
       "bool"
      ]
     },
     "execution_count": 17,
     "metadata": {},
     "output_type": "execute_result"
    }
   ],
   "source": [
    "type(a123)"
   ]
  },
  {
   "cell_type": "markdown",
   "metadata": {},
   "source": [
    "##### Continue testing the rest of the variables below:"
   ]
  },
  {
   "cell_type": "code",
   "execution_count": 25,
   "metadata": {},
   "outputs": [],
   "source": [
    "#Test remaining variables here\n",
    "\n",
    "\n",
    "\n",
    "\n",
    "\n"
   ]
  },
  {
   "cell_type": "markdown",
   "metadata": {},
   "source": [
    "##### We can also run the type function on things that are not variables."
   ]
  },
  {
   "cell_type": "code",
   "execution_count": 27,
   "metadata": {},
   "outputs": [
    {
     "data": {
      "text/plain": [
       "str"
      ]
     },
     "execution_count": 27,
     "metadata": {},
     "output_type": "execute_result"
    }
   ],
   "source": [
    "type(\"is this an int? or string?\")"
   ]
  },
  {
   "cell_type": "code",
   "execution_count": 31,
   "metadata": {},
   "outputs": [
    {
     "data": {
      "text/plain": [
       "str"
      ]
     },
     "execution_count": 31,
     "metadata": {},
     "output_type": "execute_result"
    }
   ],
   "source": [
    "type(\"123\") #notice this is a string because of the quotation marks"
   ]
  },
  {
   "cell_type": "code",
   "execution_count": 32,
   "metadata": {},
   "outputs": [
    {
     "data": {
      "text/plain": [
       "range"
      ]
     },
     "execution_count": 32,
     "metadata": {},
     "output_type": "execute_result"
    }
   ],
   "source": [
    "type(range(5))"
   ]
  },
  {
   "cell_type": "markdown",
   "metadata": {},
   "source": [
    "##### So below, we can see that we create a for loop that runs through a range of range(5), which is the same as running through [0,1,2,3,4]. You can see that it prints out two values print(value1, value2). Value1 is the variable we're iterrating i, and Value2 returns the type of i, using our type function. \n",
    "\n",
    "##### Importan note: multiplying an integer by a float (5.5) makes it a float. e.g. multiplying a numeric variable by a larger numeric type will make the result into a larger numeric type. In python, floats can hold more/larger values than integers. \n",
    "- **Integer** : 1, 2, 3, 100, 32000\n",
    "- **Floats** : .01, .1, 1.1, 1.11, 1.111"
   ]
  },
  {
   "cell_type": "code",
   "execution_count": 24,
   "metadata": {},
   "outputs": [
    {
     "name": "stdout",
     "output_type": "stream",
     "text": [
      "0 <class 'int'>\n",
      "0.0 <class 'float'>\n",
      "\n",
      "1 <class 'int'>\n",
      "5.5 <class 'float'>\n",
      "\n",
      "2 <class 'int'>\n",
      "11.0 <class 'float'>\n",
      "\n",
      "3 <class 'int'>\n",
      "16.5 <class 'float'>\n",
      "\n",
      "4 <class 'int'>\n",
      "22.0 <class 'float'>\n",
      "\n"
     ]
    }
   ],
   "source": [
    "for i in range(5):\n",
    "    print(i, type(i))\n",
    "    print(i * 5.5, type(i*5.5))\n",
    "    print(\"\")"
   ]
  },
  {
   "cell_type": "markdown",
   "metadata": {},
   "source": [
    "##### We often see for loops with the variable i, but it can be anything. We set variables to things that will make more sense in the overall context. Sometimes we'll set it to rows, if we're itterating through rows. That being said, there are several type of variables that we can itterate through other than lists... We saw that with the csv example in class"
   ]
  },
  {
   "cell_type": "code",
   "execution_count": 33,
   "metadata": {},
   "outputs": [
    {
     "name": "stdout",
     "output_type": "stream",
     "text": [
      "0 <class 'int'>\n",
      "0.0 <class 'float'>\n",
      "\n",
      "1 <class 'int'>\n",
      "5.5 <class 'float'>\n",
      "\n",
      "2 <class 'int'>\n",
      "11.0 <class 'float'>\n",
      "\n",
      "3 <class 'int'>\n",
      "16.5 <class 'float'>\n",
      "\n",
      "4 <class 'int'>\n",
      "22.0 <class 'float'>\n",
      "\n"
     ]
    }
   ],
   "source": [
    "for catdog in range(5):\n",
    "    print(catdog, type(catdog))\n",
    "    print(catdog * 5.5, type(catdog*5.5))\n",
    "    print(\"\")"
   ]
  },
  {
   "cell_type": "markdown",
   "metadata": {},
   "source": [
    "##### A few more examples, then feel free to explore some more on your own"
   ]
  },
  {
   "cell_type": "code",
   "execution_count": null,
   "metadata": {},
   "outputs": [],
   "source": [
    "sasa = input(\"Enter a word or number: \" )\n",
    "print(sasa)\n",
    "print(type(sasa))\n",
    "\n",
    "#Notice what happens when you enter a number(int/float), how would we change it to the type we want so we can actually use it for numeric calculations?"
   ]
  },
  {
   "cell_type": "code",
   "execution_count": 34,
   "metadata": {},
   "outputs": [
    {
     "data": {
      "text/plain": [
       "builtin_function_or_method"
      ]
     },
     "execution_count": 34,
     "metadata": {},
     "output_type": "execute_result"
    }
   ],
   "source": [
    "type(print)"
   ]
  },
  {
   "cell_type": "code",
   "execution_count": 35,
   "metadata": {},
   "outputs": [
    {
     "data": {
      "text/plain": [
       "method"
      ]
     },
     "execution_count": 35,
     "metadata": {},
     "output_type": "execute_result"
    }
   ],
   "source": [
    "type(input)"
   ]
  }
 ],
 "metadata": {
  "kernelspec": {
   "display_name": "Python 3",
   "language": "python",
   "name": "python3"
  },
  "language_info": {
   "codemirror_mode": {
    "name": "ipython",
    "version": 3
   },
   "file_extension": ".py",
   "mimetype": "text/x-python",
   "name": "python",
   "nbconvert_exporter": "python",
   "pygments_lexer": "ipython3",
   "version": "3.7.0"
  }
 },
 "nbformat": 4,
 "nbformat_minor": 2
}
